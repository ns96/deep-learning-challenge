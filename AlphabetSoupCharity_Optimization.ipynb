{
 "cells": [
  {
   "cell_type": "markdown",
   "metadata": {
    "id": "kjKzU_02GCf6"
   },
   "source": [
    "## Preprocessing"
   ]
  },
  {
   "cell_type": "code",
   "execution_count": 1,
   "metadata": {
    "colab": {
     "base_uri": "https://localhost:8080/",
     "height": 451
    },
    "executionInfo": {
     "elapsed": 11588,
     "status": "ok",
     "timestamp": 1705690887565,
     "user": {
      "displayName": "Nathan Stevens",
      "userId": "02577089133393346819"
     },
     "user_tz": 300
    },
    "id": "Mkq8vslUGCf9",
    "outputId": "590d07a3-0408-49f9-8194-95bbd90df765"
   },
   "outputs": [
    {
     "data": {
      "text/html": [
       "<div>\n",
       "<style scoped>\n",
       "    .dataframe tbody tr th:only-of-type {\n",
       "        vertical-align: middle;\n",
       "    }\n",
       "\n",
       "    .dataframe tbody tr th {\n",
       "        vertical-align: top;\n",
       "    }\n",
       "\n",
       "    .dataframe thead th {\n",
       "        text-align: right;\n",
       "    }\n",
       "</style>\n",
       "<table border=\"1\" class=\"dataframe\">\n",
       "  <thead>\n",
       "    <tr style=\"text-align: right;\">\n",
       "      <th></th>\n",
       "      <th>EIN</th>\n",
       "      <th>NAME</th>\n",
       "      <th>APPLICATION_TYPE</th>\n",
       "      <th>AFFILIATION</th>\n",
       "      <th>CLASSIFICATION</th>\n",
       "      <th>USE_CASE</th>\n",
       "      <th>ORGANIZATION</th>\n",
       "      <th>STATUS</th>\n",
       "      <th>INCOME_AMT</th>\n",
       "      <th>SPECIAL_CONSIDERATIONS</th>\n",
       "      <th>ASK_AMT</th>\n",
       "      <th>IS_SUCCESSFUL</th>\n",
       "    </tr>\n",
       "  </thead>\n",
       "  <tbody>\n",
       "    <tr>\n",
       "      <th>0</th>\n",
       "      <td>10520599</td>\n",
       "      <td>BLUE KNIGHTS MOTORCYCLE CLUB</td>\n",
       "      <td>T10</td>\n",
       "      <td>Independent</td>\n",
       "      <td>C1000</td>\n",
       "      <td>ProductDev</td>\n",
       "      <td>Association</td>\n",
       "      <td>1</td>\n",
       "      <td>0</td>\n",
       "      <td>N</td>\n",
       "      <td>5000</td>\n",
       "      <td>1</td>\n",
       "    </tr>\n",
       "    <tr>\n",
       "      <th>1</th>\n",
       "      <td>10531628</td>\n",
       "      <td>AMERICAN CHESAPEAKE CLUB CHARITABLE TR</td>\n",
       "      <td>T3</td>\n",
       "      <td>Independent</td>\n",
       "      <td>C2000</td>\n",
       "      <td>Preservation</td>\n",
       "      <td>Co-operative</td>\n",
       "      <td>1</td>\n",
       "      <td>1-9999</td>\n",
       "      <td>N</td>\n",
       "      <td>108590</td>\n",
       "      <td>1</td>\n",
       "    </tr>\n",
       "    <tr>\n",
       "      <th>2</th>\n",
       "      <td>10547893</td>\n",
       "      <td>ST CLOUD PROFESSIONAL FIREFIGHTERS</td>\n",
       "      <td>T5</td>\n",
       "      <td>CompanySponsored</td>\n",
       "      <td>C3000</td>\n",
       "      <td>ProductDev</td>\n",
       "      <td>Association</td>\n",
       "      <td>1</td>\n",
       "      <td>0</td>\n",
       "      <td>N</td>\n",
       "      <td>5000</td>\n",
       "      <td>0</td>\n",
       "    </tr>\n",
       "    <tr>\n",
       "      <th>3</th>\n",
       "      <td>10553066</td>\n",
       "      <td>SOUTHSIDE ATHLETIC ASSOCIATION</td>\n",
       "      <td>T3</td>\n",
       "      <td>CompanySponsored</td>\n",
       "      <td>C2000</td>\n",
       "      <td>Preservation</td>\n",
       "      <td>Trust</td>\n",
       "      <td>1</td>\n",
       "      <td>10000-24999</td>\n",
       "      <td>N</td>\n",
       "      <td>6692</td>\n",
       "      <td>1</td>\n",
       "    </tr>\n",
       "    <tr>\n",
       "      <th>4</th>\n",
       "      <td>10556103</td>\n",
       "      <td>GENETIC RESEARCH INSTITUTE OF THE DESERT</td>\n",
       "      <td>T3</td>\n",
       "      <td>Independent</td>\n",
       "      <td>C1000</td>\n",
       "      <td>Heathcare</td>\n",
       "      <td>Trust</td>\n",
       "      <td>1</td>\n",
       "      <td>100000-499999</td>\n",
       "      <td>N</td>\n",
       "      <td>142590</td>\n",
       "      <td>1</td>\n",
       "    </tr>\n",
       "  </tbody>\n",
       "</table>\n",
       "</div>"
      ],
      "text/plain": [
       "        EIN                                      NAME APPLICATION_TYPE  \\\n",
       "0  10520599              BLUE KNIGHTS MOTORCYCLE CLUB              T10   \n",
       "1  10531628    AMERICAN CHESAPEAKE CLUB CHARITABLE TR               T3   \n",
       "2  10547893        ST CLOUD PROFESSIONAL FIREFIGHTERS               T5   \n",
       "3  10553066            SOUTHSIDE ATHLETIC ASSOCIATION               T3   \n",
       "4  10556103  GENETIC RESEARCH INSTITUTE OF THE DESERT               T3   \n",
       "\n",
       "        AFFILIATION CLASSIFICATION      USE_CASE  ORGANIZATION  STATUS  \\\n",
       "0       Independent          C1000    ProductDev   Association       1   \n",
       "1       Independent          C2000  Preservation  Co-operative       1   \n",
       "2  CompanySponsored          C3000    ProductDev   Association       1   \n",
       "3  CompanySponsored          C2000  Preservation         Trust       1   \n",
       "4       Independent          C1000     Heathcare         Trust       1   \n",
       "\n",
       "      INCOME_AMT SPECIAL_CONSIDERATIONS  ASK_AMT  IS_SUCCESSFUL  \n",
       "0              0                      N     5000              1  \n",
       "1         1-9999                      N   108590              1  \n",
       "2              0                      N     5000              0  \n",
       "3    10000-24999                      N     6692              1  \n",
       "4  100000-499999                      N   142590              1  "
      ]
     },
     "execution_count": 1,
     "metadata": {},
     "output_type": "execute_result"
    }
   ],
   "source": [
    "# Import our dependencies\n",
    "from sklearn.model_selection import train_test_split\n",
    "from sklearn.preprocessing import StandardScaler, OneHotEncoder\n",
    "import pandas as pd\n",
    "import tensorflow as tf\n",
    "\n",
    "#  Import and read the charity_data.csv.\n",
    "import pandas as pd\n",
    "application_df = pd.read_csv(\"https://static.bc-edx.com/data/dl-1-2/m21/lms/starter/charity_data.csv\")\n",
    "application_df.head()"
   ]
  },
  {
   "cell_type": "code",
   "execution_count": 2,
   "metadata": {},
   "outputs": [],
   "source": [
    "# create a feature that tracks how often a name occurs. as the saying goes \"success breeds success\"\n",
    "# https://www.statology.org/pandas-add-count-column/\n",
    "application_df['NAME_COUNT'] = application_df.groupby('NAME')['NAME'].transform('count')"
   ]
  },
  {
   "cell_type": "code",
   "execution_count": 3,
   "metadata": {
    "executionInfo": {
     "elapsed": 312,
     "status": "ok",
     "timestamp": 1705690892210,
     "user": {
      "displayName": "Nathan Stevens",
      "userId": "02577089133393346819"
     },
     "user_tz": 300
    },
    "id": "8618otfMGCf-"
   },
   "outputs": [],
   "source": [
    "# Drop the non-beneficial ID columns, 'EIN' and 'NAME' and a few others\n",
    "# drop_columns = ['EIN', 'NAME', 'STATUS', 'USE_CASE', 'INCOME_AMT']\n",
    "drop_columns = ['EIN', 'NAME', 'STATUS', 'SPECIAL_CONSIDERATIONS']\n",
    "application_df.drop(columns=drop_columns, inplace=True)"
   ]
  },
  {
   "cell_type": "code",
   "execution_count": 4,
   "metadata": {
    "colab": {
     "base_uri": "https://localhost:8080/"
    },
    "executionInfo": {
     "elapsed": 343,
     "status": "ok",
     "timestamp": 1705690895770,
     "user": {
      "displayName": "Nathan Stevens",
      "userId": "02577089133393346819"
     },
     "user_tz": 300
    },
    "id": "JMyFpyyfGCf-",
    "outputId": "c0b46401-d18b-46e8-9461-f011ba53adf3"
   },
   "outputs": [
    {
     "data": {
      "text/plain": [
       "APPLICATION_TYPE\n",
       "T3       27037\n",
       "T4        1542\n",
       "T6        1216\n",
       "T5        1173\n",
       "T19       1065\n",
       "T8         737\n",
       "T7         725\n",
       "T10        528\n",
       "Other      276\n",
       "Name: count, dtype: int64"
      ]
     },
     "execution_count": 4,
     "metadata": {},
     "output_type": "execute_result"
    }
   ],
   "source": [
    "# Choose a cutoff value and create a list of application types to be replaced\n",
    "# use the variable name `application_types_to_replace`\n",
    "application_types_to_replace = ['T9', 'T13', 'T12', 'T2', 'T25', 'T14', 'T29', 'T15', 'T17']\n",
    "\n",
    "# use apply function instead of the for loop\n",
    "application_df['APPLICATION_TYPE'] = application_df['APPLICATION_TYPE'].apply(lambda x: 'Other' if x in application_types_to_replace else x)\n",
    "\n",
    "# Check to make sure binning was successful\n",
    "application_df['APPLICATION_TYPE'].value_counts()"
   ]
  },
  {
   "cell_type": "code",
   "execution_count": 5,
   "metadata": {
    "colab": {
     "base_uri": "https://localhost:8080/"
    },
    "executionInfo": {
     "elapsed": 491,
     "status": "ok",
     "timestamp": 1705690899437,
     "user": {
      "displayName": "Nathan Stevens",
      "userId": "02577089133393346819"
     },
     "user_tz": 300
    },
    "id": "21pqpY_aGCf-",
    "outputId": "6d77a490-2783-4e45-85f4-ebdb92563bdf"
   },
   "outputs": [
    {
     "data": {
      "text/plain": [
       "CLASSIFICATION\n",
       "C1000    17326\n",
       "C2000     6074\n",
       "C1200     4837\n",
       "Other     2261\n",
       "C3000     1918\n",
       "C2100     1883\n",
       "Name: count, dtype: int64"
      ]
     },
     "execution_count": 5,
     "metadata": {},
     "output_type": "execute_result"
    }
   ],
   "source": [
    "# Choose a cutoff value and create a list of classifications to be replaced\n",
    "# use the variable name `classifications_to_replace`\n",
    "classifications_to_keep = ['C1000', 'C2000', 'C1200', 'C3000', 'C2100']\n",
    "#classifications_to_keep = ['C1000', 'C2000', 'C2100']\n",
    "\n",
    "# Replace in dataframe\n",
    "application_df['CLASSIFICATION'] = application_df['CLASSIFICATION'].apply(lambda x: 'Other' if x not in classifications_to_keep else x)\n",
    "\n",
    "# Check to make sure binning was successful\n",
    "application_df['CLASSIFICATION'].value_counts()"
   ]
  },
  {
   "cell_type": "code",
   "execution_count": 6,
   "metadata": {
    "colab": {
     "base_uri": "https://localhost:8080/"
    },
    "executionInfo": {
     "elapsed": 399,
     "status": "ok",
     "timestamp": 1705690903008,
     "user": {
      "displayName": "Nathan Stevens",
      "userId": "02577089133393346819"
     },
     "user_tz": 300
    },
    "id": "vHgbq3OyGCf_",
    "outputId": "d490d632-98dc-4a2f-9969-a160cb028988"
   },
   "outputs": [
    {
     "data": {
      "text/plain": [
       "INCOME_AMT\n",
       "0-100K      29406\n",
       "100K-50M     4893\n",
       "Name: count, dtype: int64"
      ]
     },
     "execution_count": 6,
     "metadata": {},
     "output_type": "execute_result"
    }
   ],
   "source": [
    "#function to bin income to less100K or greater than 100K\n",
    "def bin_income(income):\n",
    "    less_than = ['0', '1-9999', '10000-24999', '25000-99999']\n",
    "    if income in less_than:\n",
    "        return '0-100K'\n",
    "    else:\n",
    "        return '100K-50M'\n",
    "\n",
    "# Replace in dataframe\n",
    "application_df['INCOME_AMT'] = application_df['INCOME_AMT'].apply(bin_income)\n",
    "#application_df['INCOME_AMT'].apply(bin_income)\n",
    "\n",
    "# Check to make sure binning was successful\n",
    "application_df['INCOME_AMT'].value_counts()"
   ]
  },
  {
   "cell_type": "code",
   "execution_count": 7,
   "metadata": {
    "executionInfo": {
     "elapsed": 337,
     "status": "ok",
     "timestamp": 1705690908010,
     "user": {
      "displayName": "Nathan Stevens",
      "userId": "02577089133393346819"
     },
     "user_tz": 300
    },
    "id": "DWp-SLd5GCf_"
   },
   "outputs": [],
   "source": [
    "# consildate the affliations\n",
    "application_df['AFFILIATION'] = application_df['AFFILIATION'].apply(lambda x: 'Other' if x != 'Independent' else x)"
   ]
  },
  {
   "cell_type": "code",
   "execution_count": 8,
   "metadata": {
    "executionInfo": {
     "elapsed": 1131,
     "status": "ok",
     "timestamp": 1705690911509,
     "user": {
      "displayName": "Nathan Stevens",
      "userId": "02577089133393346819"
     },
     "user_tz": 300
    },
    "id": "rBoP2zP8GCf_"
   },
   "outputs": [],
   "source": [
    "# consildate the use cases\n",
    "application_df['USE_CASE'] = application_df['USE_CASE'].apply(lambda x: 'Other' if x != 'Preservation' else x)"
   ]
  },
  {
   "cell_type": "code",
   "execution_count": 9,
   "metadata": {
    "colab": {
     "base_uri": "https://localhost:8080/",
     "height": 473
    },
    "executionInfo": {
     "elapsed": 1035,
     "status": "ok",
     "timestamp": 1705690914623,
     "user": {
      "displayName": "Nathan Stevens",
      "userId": "02577089133393346819"
     },
     "user_tz": 300
    },
    "id": "pAu8bq1eGCgA",
    "outputId": "4de2aa24-c5fc-4d8f-c3a8-f400d5579485"
   },
   "outputs": [
    {
     "name": "stdout",
     "output_type": "stream",
     "text": [
      "Index(['ASK_AMT', 'IS_SUCCESSFUL', 'NAME_COUNT', 'APPLICATION_TYPE_Other',\n",
      "       'APPLICATION_TYPE_T10', 'APPLICATION_TYPE_T19', 'APPLICATION_TYPE_T3',\n",
      "       'APPLICATION_TYPE_T4', 'APPLICATION_TYPE_T5', 'APPLICATION_TYPE_T6',\n",
      "       'APPLICATION_TYPE_T7', 'APPLICATION_TYPE_T8', 'AFFILIATION_Independent',\n",
      "       'AFFILIATION_Other', 'CLASSIFICATION_C1000', 'CLASSIFICATION_C1200',\n",
      "       'CLASSIFICATION_C2000', 'CLASSIFICATION_C2100', 'CLASSIFICATION_C3000',\n",
      "       'CLASSIFICATION_Other', 'USE_CASE_Other', 'USE_CASE_Preservation',\n",
      "       'ORGANIZATION_Association', 'ORGANIZATION_Co-operative',\n",
      "       'ORGANIZATION_Corporation', 'ORGANIZATION_Trust', 'INCOME_AMT_0-100K',\n",
      "       'INCOME_AMT_100K-50M'],\n",
      "      dtype='object')\n"
     ]
    },
    {
     "data": {
      "text/html": [
       "<div>\n",
       "<style scoped>\n",
       "    .dataframe tbody tr th:only-of-type {\n",
       "        vertical-align: middle;\n",
       "    }\n",
       "\n",
       "    .dataframe tbody tr th {\n",
       "        vertical-align: top;\n",
       "    }\n",
       "\n",
       "    .dataframe thead th {\n",
       "        text-align: right;\n",
       "    }\n",
       "</style>\n",
       "<table border=\"1\" class=\"dataframe\">\n",
       "  <thead>\n",
       "    <tr style=\"text-align: right;\">\n",
       "      <th></th>\n",
       "      <th>ASK_AMT</th>\n",
       "      <th>IS_SUCCESSFUL</th>\n",
       "      <th>NAME_COUNT</th>\n",
       "      <th>APPLICATION_TYPE_Other</th>\n",
       "      <th>APPLICATION_TYPE_T10</th>\n",
       "      <th>APPLICATION_TYPE_T19</th>\n",
       "      <th>APPLICATION_TYPE_T3</th>\n",
       "      <th>APPLICATION_TYPE_T4</th>\n",
       "      <th>APPLICATION_TYPE_T5</th>\n",
       "      <th>APPLICATION_TYPE_T6</th>\n",
       "      <th>...</th>\n",
       "      <th>CLASSIFICATION_C3000</th>\n",
       "      <th>CLASSIFICATION_Other</th>\n",
       "      <th>USE_CASE_Other</th>\n",
       "      <th>USE_CASE_Preservation</th>\n",
       "      <th>ORGANIZATION_Association</th>\n",
       "      <th>ORGANIZATION_Co-operative</th>\n",
       "      <th>ORGANIZATION_Corporation</th>\n",
       "      <th>ORGANIZATION_Trust</th>\n",
       "      <th>INCOME_AMT_0-100K</th>\n",
       "      <th>INCOME_AMT_100K-50M</th>\n",
       "    </tr>\n",
       "  </thead>\n",
       "  <tbody>\n",
       "    <tr>\n",
       "      <th>0</th>\n",
       "      <td>5000</td>\n",
       "      <td>1</td>\n",
       "      <td>8</td>\n",
       "      <td>0.0</td>\n",
       "      <td>1.0</td>\n",
       "      <td>0.0</td>\n",
       "      <td>0.0</td>\n",
       "      <td>0.0</td>\n",
       "      <td>0.0</td>\n",
       "      <td>0.0</td>\n",
       "      <td>...</td>\n",
       "      <td>0.0</td>\n",
       "      <td>0.0</td>\n",
       "      <td>1.0</td>\n",
       "      <td>0.0</td>\n",
       "      <td>1.0</td>\n",
       "      <td>0.0</td>\n",
       "      <td>0.0</td>\n",
       "      <td>0.0</td>\n",
       "      <td>1.0</td>\n",
       "      <td>0.0</td>\n",
       "    </tr>\n",
       "    <tr>\n",
       "      <th>1</th>\n",
       "      <td>108590</td>\n",
       "      <td>1</td>\n",
       "      <td>1</td>\n",
       "      <td>0.0</td>\n",
       "      <td>0.0</td>\n",
       "      <td>0.0</td>\n",
       "      <td>1.0</td>\n",
       "      <td>0.0</td>\n",
       "      <td>0.0</td>\n",
       "      <td>0.0</td>\n",
       "      <td>...</td>\n",
       "      <td>0.0</td>\n",
       "      <td>0.0</td>\n",
       "      <td>0.0</td>\n",
       "      <td>1.0</td>\n",
       "      <td>0.0</td>\n",
       "      <td>1.0</td>\n",
       "      <td>0.0</td>\n",
       "      <td>0.0</td>\n",
       "      <td>1.0</td>\n",
       "      <td>0.0</td>\n",
       "    </tr>\n",
       "    <tr>\n",
       "      <th>2</th>\n",
       "      <td>5000</td>\n",
       "      <td>0</td>\n",
       "      <td>1</td>\n",
       "      <td>0.0</td>\n",
       "      <td>0.0</td>\n",
       "      <td>0.0</td>\n",
       "      <td>0.0</td>\n",
       "      <td>0.0</td>\n",
       "      <td>1.0</td>\n",
       "      <td>0.0</td>\n",
       "      <td>...</td>\n",
       "      <td>1.0</td>\n",
       "      <td>0.0</td>\n",
       "      <td>1.0</td>\n",
       "      <td>0.0</td>\n",
       "      <td>1.0</td>\n",
       "      <td>0.0</td>\n",
       "      <td>0.0</td>\n",
       "      <td>0.0</td>\n",
       "      <td>1.0</td>\n",
       "      <td>0.0</td>\n",
       "    </tr>\n",
       "    <tr>\n",
       "      <th>3</th>\n",
       "      <td>6692</td>\n",
       "      <td>1</td>\n",
       "      <td>1</td>\n",
       "      <td>0.0</td>\n",
       "      <td>0.0</td>\n",
       "      <td>0.0</td>\n",
       "      <td>1.0</td>\n",
       "      <td>0.0</td>\n",
       "      <td>0.0</td>\n",
       "      <td>0.0</td>\n",
       "      <td>...</td>\n",
       "      <td>0.0</td>\n",
       "      <td>0.0</td>\n",
       "      <td>0.0</td>\n",
       "      <td>1.0</td>\n",
       "      <td>0.0</td>\n",
       "      <td>0.0</td>\n",
       "      <td>0.0</td>\n",
       "      <td>1.0</td>\n",
       "      <td>1.0</td>\n",
       "      <td>0.0</td>\n",
       "    </tr>\n",
       "    <tr>\n",
       "      <th>4</th>\n",
       "      <td>142590</td>\n",
       "      <td>1</td>\n",
       "      <td>1</td>\n",
       "      <td>0.0</td>\n",
       "      <td>0.0</td>\n",
       "      <td>0.0</td>\n",
       "      <td>1.0</td>\n",
       "      <td>0.0</td>\n",
       "      <td>0.0</td>\n",
       "      <td>0.0</td>\n",
       "      <td>...</td>\n",
       "      <td>0.0</td>\n",
       "      <td>0.0</td>\n",
       "      <td>1.0</td>\n",
       "      <td>0.0</td>\n",
       "      <td>0.0</td>\n",
       "      <td>0.0</td>\n",
       "      <td>0.0</td>\n",
       "      <td>1.0</td>\n",
       "      <td>0.0</td>\n",
       "      <td>1.0</td>\n",
       "    </tr>\n",
       "  </tbody>\n",
       "</table>\n",
       "<p>5 rows × 28 columns</p>\n",
       "</div>"
      ],
      "text/plain": [
       "   ASK_AMT  IS_SUCCESSFUL  NAME_COUNT  APPLICATION_TYPE_Other  \\\n",
       "0     5000              1           8                     0.0   \n",
       "1   108590              1           1                     0.0   \n",
       "2     5000              0           1                     0.0   \n",
       "3     6692              1           1                     0.0   \n",
       "4   142590              1           1                     0.0   \n",
       "\n",
       "   APPLICATION_TYPE_T10  APPLICATION_TYPE_T19  APPLICATION_TYPE_T3  \\\n",
       "0                   1.0                   0.0                  0.0   \n",
       "1                   0.0                   0.0                  1.0   \n",
       "2                   0.0                   0.0                  0.0   \n",
       "3                   0.0                   0.0                  1.0   \n",
       "4                   0.0                   0.0                  1.0   \n",
       "\n",
       "   APPLICATION_TYPE_T4  APPLICATION_TYPE_T5  APPLICATION_TYPE_T6  ...  \\\n",
       "0                  0.0                  0.0                  0.0  ...   \n",
       "1                  0.0                  0.0                  0.0  ...   \n",
       "2                  0.0                  1.0                  0.0  ...   \n",
       "3                  0.0                  0.0                  0.0  ...   \n",
       "4                  0.0                  0.0                  0.0  ...   \n",
       "\n",
       "   CLASSIFICATION_C3000  CLASSIFICATION_Other  USE_CASE_Other  \\\n",
       "0                   0.0                   0.0             1.0   \n",
       "1                   0.0                   0.0             0.0   \n",
       "2                   1.0                   0.0             1.0   \n",
       "3                   0.0                   0.0             0.0   \n",
       "4                   0.0                   0.0             1.0   \n",
       "\n",
       "   USE_CASE_Preservation  ORGANIZATION_Association  ORGANIZATION_Co-operative  \\\n",
       "0                    0.0                       1.0                        0.0   \n",
       "1                    1.0                       0.0                        1.0   \n",
       "2                    0.0                       1.0                        0.0   \n",
       "3                    1.0                       0.0                        0.0   \n",
       "4                    0.0                       0.0                        0.0   \n",
       "\n",
       "   ORGANIZATION_Corporation  ORGANIZATION_Trust  INCOME_AMT_0-100K  \\\n",
       "0                       0.0                 0.0                1.0   \n",
       "1                       0.0                 0.0                1.0   \n",
       "2                       0.0                 0.0                1.0   \n",
       "3                       0.0                 1.0                1.0   \n",
       "4                       0.0                 1.0                0.0   \n",
       "\n",
       "   INCOME_AMT_100K-50M  \n",
       "0                  0.0  \n",
       "1                  0.0  \n",
       "2                  0.0  \n",
       "3                  0.0  \n",
       "4                  1.0  \n",
       "\n",
       "[5 rows x 28 columns]"
      ]
     },
     "execution_count": 9,
     "metadata": {},
     "output_type": "execute_result"
    }
   ],
   "source": [
    "# Convert categorical data to numeric with `pd.get_dummies`\n",
    "cat_columns = application_df.dtypes[application_df.dtypes == \"object\"].index.tolist()\n",
    "#print(\"Category Columns:\", application_df[cat_columns].nunique())\n",
    "\n",
    "enc = OneHotEncoder(sparse_output=False)\n",
    "enc_data = enc.fit_transform(application_df[cat_columns])\n",
    "enc_columns = enc.get_feature_names_out().tolist()\n",
    "\n",
    "encode_df = pd.DataFrame(enc_data, columns=enc_columns)\n",
    "#display(encode_df.head())\n",
    "\n",
    "# now lets merge the into the application dataframe then drop original columns\n",
    "application_df = application_df.merge(encode_df, left_index=True, right_index=True)\n",
    "application_df = application_df.drop(columns=cat_columns)\n",
    "\n",
    "print(application_df.columns)\n",
    "\n",
    "application_df.head()"
   ]
  },
  {
   "cell_type": "code",
   "execution_count": 10,
   "metadata": {
    "colab": {
     "base_uri": "https://localhost:8080/"
    },
    "executionInfo": {
     "elapsed": 313,
     "status": "ok",
     "timestamp": 1705690918200,
     "user": {
      "displayName": "Nathan Stevens",
      "userId": "02577089133393346819"
     },
     "user_tz": 300
    },
    "id": "pyO6fRD7GCgA",
    "outputId": "d9bbf302-f2ae-4071-a3a2-71c1d54deaee"
   },
   "outputs": [
    {
     "data": {
      "text/plain": [
       "IS_SUCCESSFUL\n",
       "1    0.532406\n",
       "0    0.467594\n",
       "Name: proportion, dtype: float64"
      ]
     },
     "execution_count": 10,
     "metadata": {},
     "output_type": "execute_result"
    }
   ],
   "source": [
    "# Split our preprocessed data into our features and target arrays\n",
    "y = application_df['IS_SUCCESSFUL']\n",
    "X = application_df.drop(columns='IS_SUCCESSFUL')\n",
    "#X = application_df[top_features]\n",
    "\n",
    "# Split the preprocessed data into a training and testing dataset\n",
    "X_train, X_test, y_train, y_test = train_test_split(X, y, random_state=55)\n",
    "\n",
    "# show the class balance\n",
    "y.value_counts(normalize=True)"
   ]
  },
  {
   "cell_type": "code",
   "execution_count": 11,
   "metadata": {
    "executionInfo": {
     "elapsed": 306,
     "status": "ok",
     "timestamp": 1705690922181,
     "user": {
      "displayName": "Nathan Stevens",
      "userId": "02577089133393346819"
     },
     "user_tz": 300
    },
    "id": "pB4yb_ZjGCgA"
   },
   "outputs": [
    {
     "name": "stdout",
     "output_type": "stream",
     "text": [
      "Number of Input Features: 27\n"
     ]
    }
   ],
   "source": [
    "# Create a StandardScaler instances\n",
    "scaler = StandardScaler()\n",
    "\n",
    "# Fit the StandardScaler\n",
    "X_scaler = scaler.fit(X_train)\n",
    "\n",
    "# Scale the data\n",
    "X_train_scaled = X_scaler.transform(X_train)\n",
    "X_test_scaled = X_scaler.transform(X_test)\n",
    "\n",
    "# set the number of features\n",
    "number_input_features = X_train.shape[1]\n",
    "\n",
    "print(\"Number of Input Features:\", number_input_features)"
   ]
  },
  {
   "cell_type": "markdown",
   "metadata": {
    "id": "IHvYDN7yGCgB"
   },
   "source": [
    "## Train an xgboost model to get feature importance and baseline performance"
   ]
  },
  {
   "cell_type": "code",
   "execution_count": 12,
   "metadata": {
    "executionInfo": {
     "elapsed": 884,
     "status": "ok",
     "timestamp": 1705690932716,
     "user": {
      "displayName": "Nathan Stevens",
      "userId": "02577089133393346819"
     },
     "user_tz": 300
    },
    "id": "hYM_Kh0IGCgB"
   },
   "outputs": [],
   "source": [
    "from sklearn.metrics import accuracy_score, classification_report\n",
    "import xgboost as xgb\n",
    "import matplotlib.pyplot as plt\n",
    "from xgboost import plot_importance"
   ]
  },
  {
   "cell_type": "code",
   "execution_count": 13,
   "metadata": {
    "colab": {
     "base_uri": "https://localhost:8080/"
    },
    "executionInfo": {
     "elapsed": 319,
     "status": "ok",
     "timestamp": 1705690935451,
     "user": {
      "displayName": "Nathan Stevens",
      "userId": "02577089133393346819"
     },
     "user_tz": 300
    },
    "id": "-uGs1W4IGCgB",
    "outputId": "587c4cfd-017a-4229-a277-f911306224f4"
   },
   "outputs": [
    {
     "name": "stdout",
     "output_type": "stream",
     "text": [
      "Accuracy: 0.7826239067055394\n",
      "\n",
      "Classification Report:\n",
      "              precision    recall  f1-score   support\n",
      "\n",
      "           0       0.84      0.66      0.74      4045\n",
      "           1       0.75      0.89      0.81      4530\n",
      "\n",
      "    accuracy                           0.78      8575\n",
      "   macro avg       0.80      0.78      0.78      8575\n",
      "weighted avg       0.79      0.78      0.78      8575\n",
      "\n"
     ]
    }
   ],
   "source": [
    "model = xgb.XGBClassifier()\n",
    "\n",
    "#Training the model on the training data\n",
    "model.fit(X_train_scaled, y_train)\n",
    "\n",
    "#Making predictions on the test set\n",
    "predictions = model.predict(X_test_scaled)\n",
    "\n",
    "#Calculating accuracy\n",
    "accuracy = accuracy_score(y_test, predictions)\n",
    "\n",
    "print(\"Accuracy:\", accuracy)\n",
    "print(\"\\nClassification Report:\")\n",
    "\n",
    "print(classification_report(y_test, predictions))"
   ]
  },
  {
   "cell_type": "code",
   "execution_count": 14,
   "metadata": {
    "colab": {
     "base_uri": "https://localhost:8080/",
     "height": 448
    },
    "executionInfo": {
     "elapsed": 822,
     "status": "ok",
     "timestamp": 1705690946200,
     "user": {
      "displayName": "Nathan Stevens",
      "userId": "02577089133393346819"
     },
     "user_tz": 300
    },
    "id": "DOkCTcmJGCgB",
    "outputId": "fe28bea7-af33-49a0-f279-c4ff3004560b"
   },
   "outputs": [
    {
     "data": {
      "text/plain": [
       "<BarContainer object of 20 artists>"
      ]
     },
     "execution_count": 14,
     "metadata": {},
     "output_type": "execute_result"
    },
    {
     "data": {
      "image/png": "[encoded data removed]",
      "text/plain": [
       "<Figure size 640x480 with 1 Axes>"
      ]
     },
     "metadata": {},
     "output_type": "display_data"
    }
   ],
   "source": [
    "# plot feature importance\n",
    "n_top_features = 20\n",
    "sorted_idx = model.feature_importances_.argsort()[::-1]\n",
    "\n",
    "top_features = X_test.columns[sorted_idx][:n_top_features ].tolist()\n",
    "\n",
    "plt.barh(X_test.columns[sorted_idx][:n_top_features ], model.feature_importances_[sorted_idx][:n_top_features ])"
   ]
  },
  {
   "cell_type": "markdown",
   "metadata": {},
   "source": [
    "### Use grid search on xgboost to optimize hyperparameters"
   ]
  },
  {
   "cell_type": "code",
   "execution_count": 15,
   "metadata": {},
   "outputs": [],
   "source": [
    "from sklearn.model_selection import GridSearchCV"
   ]
  },
  {
   "cell_type": "code",
   "execution_count": 16,
   "metadata": {},
   "outputs": [],
   "source": [
    "# specify model and parameter range\n",
    "estimator = xgb.XGBClassifier(\n",
    "    objective= 'binary:logistic',\n",
    "    nthread=8,\n",
    "    seed=42\n",
    ")\n",
    "\n",
    "parameters = {\n",
    "    'max_depth': range (2, 10, 1),\n",
    "    'n_estimators': range(50, 500, 50),\n",
    "    'learning_rate': [0.1, 0.01, 0.05]\n",
    "}\n",
    "\n",
    "# specify the grid search object\n",
    "grid_search = GridSearchCV(\n",
    "    estimator=estimator,\n",
    "    param_grid=parameters,\n",
    "    scoring = 'roc_auc',\n",
    "    n_jobs = 10,\n",
    "    cv = 10,\n",
    "    verbose=True\n",
    ")"
   ]
  },
  {
   "cell_type": "code",
   "execution_count": 17,
   "metadata": {},
   "outputs": [
    {
     "name": "stdout",
     "output_type": "stream",
     "text": [
      "Fitting 10 folds for each of 216 candidates, totalling 2160 fits\n"
     ]
    },
    {
     "data": {
      "text/html": [
       "<style>#sk-container-id-1 {color: black;}#sk-container-id-1 pre{padding: 0;}#sk-container-id-1 div.sk-toggleable {background-color: white;}#sk-container-id-1 label.sk-toggleable__label {cursor: pointer;display: block;width: 100%;margin-bottom: 0;padding: 0.3em;box-sizing: border-box;text-align: center;}#sk-container-id-1 label.sk-toggleable__label-arrow:before {content: \"▸\";float: left;margin-right: 0.25em;color: #696969;}#sk-container-id-1 label.sk-toggleable__label-arrow:hover:before {color: black;}#sk-container-id-1 div.sk-estimator:hover label.sk-toggleable__label-arrow:before {color: black;}#sk-container-id-1 div.sk-toggleable__content {max-height: 0;max-width: 0;overflow: hidden;text-align: left;background-color: #f0f8ff;}#sk-container-id-1 div.sk-toggleable__content pre {margin: 0.2em;color: black;border-radius: 0.25em;background-color: #f0f8ff;}#sk-container-id-1 input.sk-toggleable__control:checked~div.sk-toggleable__content {max-height: 200px;max-width: 100%;overflow: auto;}#sk-container-id-1 input.sk-toggleable__control:checked~label.sk-toggleable__label-arrow:before {content: \"▾\";}#sk-container-id-1 div.sk-estimator input.sk-toggleable__control:checked~label.sk-toggleable__label {background-color: #d4ebff;}#sk-container-id-1 div.sk-label input.sk-toggleable__control:checked~label.sk-toggleable__label {background-color: #d4ebff;}#sk-container-id-1 input.sk-hidden--visually {border: 0;clip: rect(1px 1px 1px 1px);clip: rect(1px, 1px, 1px, 1px);height: 1px;margin: -1px;overflow: hidden;padding: 0;position: absolute;width: 1px;}#sk-container-id-1 div.sk-estimator {font-family: monospace;background-color: #f0f8ff;border: 1px dotted black;border-radius: 0.25em;box-sizing: border-box;margin-bottom: 0.5em;}#sk-container-id-1 div.sk-estimator:hover {background-color: #d4ebff;}#sk-container-id-1 div.sk-parallel-item::after {content: \"\";width: 100%;border-bottom: 1px solid gray;flex-grow: 1;}#sk-container-id-1 div.sk-label:hover label.sk-toggleable__label {background-color: #d4ebff;}#sk-container-id-1 div.sk-serial::before {content: \"\";position: absolute;border-left: 1px solid gray;box-sizing: border-box;top: 0;bottom: 0;left: 50%;z-index: 0;}#sk-container-id-1 div.sk-serial {display: flex;flex-direction: column;align-items: center;background-color: white;padding-right: 0.2em;padding-left: 0.2em;position: relative;}#sk-container-id-1 div.sk-item {position: relative;z-index: 1;}#sk-container-id-1 div.sk-parallel {display: flex;align-items: stretch;justify-content: center;background-color: white;position: relative;}#sk-container-id-1 div.sk-item::before, #sk-container-id-1 div.sk-parallel-item::before {content: \"\";position: absolute;border-left: 1px solid gray;box-sizing: border-box;top: 0;bottom: 0;left: 50%;z-index: -1;}#sk-container-id-1 div.sk-parallel-item {display: flex;flex-direction: column;z-index: 1;position: relative;background-color: white;}#sk-container-id-1 div.sk-parallel-item:first-child::after {align-self: flex-end;width: 50%;}#sk-container-id-1 div.sk-parallel-item:last-child::after {align-self: flex-start;width: 50%;}#sk-container-id-1 div.sk-parallel-item:only-child::after {width: 0;}#sk-container-id-1 div.sk-dashed-wrapped {border: 1px dashed gray;margin: 0 0.4em 0.5em 0.4em;box-sizing: border-box;padding-bottom: 0.4em;background-color: white;}#sk-container-id-1 div.sk-label label {font-family: monospace;font-weight: bold;display: inline-block;line-height: 1.2em;}#sk-container-id-1 div.sk-label-container {text-align: center;}#sk-container-id-1 div.sk-container {/* jupyter's `normalize.less` sets `[hidden] { display: none; }` but bootstrap.min.css set `[hidden] { display: none !important; }` so we also need the `!important` here to be able to override the default hidden behavior on the sphinx rendered scikit-learn.org. See: https://github.com/scikit-learn/scikit-learn/issues/21755 */display: inline-block !important;position: relative;}#sk-container-id-1 div.sk-text-repr-fallback {display: none;}</style><div id=\"sk-container-id-1\" class=\"sk-top-container\"><div class=\"sk-text-repr-fallback\"><pre>GridSearchCV(cv=10,\n",
       "             estimator=XGBClassifier(base_score=None, booster=None,\n",
       "                                     callbacks=None, colsample_bylevel=None,\n",
       "                                     colsample_bynode=None,\n",
       "                                     colsample_bytree=None, device=None,\n",
       "                                     early_stopping_rounds=None,\n",
       "                                     enable_categorical=False, eval_metric=None,\n",
       "                                     feature_types=None, gamma=None,\n",
       "                                     grow_policy=None, importance_type=None,\n",
       "                                     interaction_constraints=None,\n",
       "                                     learning_rate=None...\n",
       "                                     max_cat_to_onehot=None,\n",
       "                                     max_delta_step=None, max_depth=None,\n",
       "                                     max_leaves=None, min_child_weight=None,\n",
       "                                     missing=nan, monotone_constraints=None,\n",
       "                                     multi_strategy=None, n_estimators=None,\n",
       "                                     n_jobs=None, nthread=8,\n",
       "                                     num_parallel_tree=None, ...),\n",
       "             n_jobs=10,\n",
       "             param_grid={&#x27;learning_rate&#x27;: [0.1, 0.01, 0.05],\n",
       "                         &#x27;max_depth&#x27;: range(2, 10),\n",
       "                         &#x27;n_estimators&#x27;: range(50, 500, 50)},\n",
       "             scoring=&#x27;roc_auc&#x27;, verbose=True)</pre><b>In a Jupyter environment, please rerun this cell to show the HTML representation or trust the notebook. <br />On GitHub, the HTML representation is unable to render, please try loading this page with nbviewer.org.</b></div><div class=\"sk-container\" hidden><div class=\"sk-item sk-dashed-wrapped\"><div class=\"sk-label-container\"><div class=\"sk-label sk-toggleable\"><input class=\"sk-toggleable__control sk-hidden--visually\" id=\"sk-estimator-id-1\" type=\"checkbox\" ><label for=\"sk-estimator-id-1\" class=\"sk-toggleable__label sk-toggleable__label-arrow\">GridSearchCV</label><div class=\"sk-toggleable__content\"><pre>GridSearchCV(cv=10,\n",
       "             estimator=XGBClassifier(base_score=None, booster=None,\n",
       "                                     callbacks=None, colsample_bylevel=None,\n",
       "                                     colsample_bynode=None,\n",
       "                                     colsample_bytree=None, device=None,\n",
       "                                     early_stopping_rounds=None,\n",
       "                                     enable_categorical=False, eval_metric=None,\n",
       "                                     feature_types=None, gamma=None,\n",
       "                                     grow_policy=None, importance_type=None,\n",
       "                                     interaction_constraints=None,\n",
       "                                     learning_rate=None...\n",
       "                                     max_cat_to_onehot=None,\n",
       "                                     max_delta_step=None, max_depth=None,\n",
       "                                     max_leaves=None, min_child_weight=None,\n",
       "                                     missing=nan, monotone_constraints=None,\n",
       "                                     multi_strategy=None, n_estimators=None,\n",
       "                                     n_jobs=None, nthread=8,\n",
       "                                     num_parallel_tree=None, ...),\n",
       "             n_jobs=10,\n",
       "             param_grid={&#x27;learning_rate&#x27;: [0.1, 0.01, 0.05],\n",
       "                         &#x27;max_depth&#x27;: range(2, 10),\n",
       "                         &#x27;n_estimators&#x27;: range(50, 500, 50)},\n",
       "             scoring=&#x27;roc_auc&#x27;, verbose=True)</pre></div></div></div><div class=\"sk-parallel\"><div class=\"sk-parallel-item\"><div class=\"sk-item\"><div class=\"sk-label-container\"><div class=\"sk-label sk-toggleable\"><input class=\"sk-toggleable__control sk-hidden--visually\" id=\"sk-estimator-id-2\" type=\"checkbox\" ><label for=\"sk-estimator-id-2\" class=\"sk-toggleable__label sk-toggleable__label-arrow\">estimator: XGBClassifier</label><div class=\"sk-toggleable__content\"><pre>XGBClassifier(base_score=None, booster=None, callbacks=None,\n",
       "              colsample_bylevel=None, colsample_bynode=None,\n",
       "              colsample_bytree=None, device=None, early_stopping_rounds=None,\n",
       "              enable_categorical=False, eval_metric=None, feature_types=None,\n",
       "              gamma=None, grow_policy=None, importance_type=None,\n",
       "              interaction_constraints=None, learning_rate=None, max_bin=None,\n",
       "              max_cat_threshold=None, max_cat_to_onehot=None,\n",
       "              max_delta_step=None, max_depth=None, max_leaves=None,\n",
       "              min_child_weight=None, missing=nan, monotone_constraints=None,\n",
       "              multi_strategy=None, n_estimators=None, n_jobs=None, nthread=8,\n",
       "              num_parallel_tree=None, ...)</pre></div></div></div><div class=\"sk-serial\"><div class=\"sk-item\"><div class=\"sk-estimator sk-toggleable\"><input class=\"sk-toggleable__control sk-hidden--visually\" id=\"sk-estimator-id-3\" type=\"checkbox\" ><label for=\"sk-estimator-id-3\" class=\"sk-toggleable__label sk-toggleable__label-arrow\">XGBClassifier</label><div class=\"sk-toggleable__content\"><pre>XGBClassifier(base_score=None, booster=None, callbacks=None,\n",
       "              colsample_bylevel=None, colsample_bynode=None,\n",
       "              colsample_bytree=None, device=None, early_stopping_rounds=None,\n",
       "              enable_categorical=False, eval_metric=None, feature_types=None,\n",
       "              gamma=None, grow_policy=None, importance_type=None,\n",
       "              interaction_constraints=None, learning_rate=None, max_bin=None,\n",
       "              max_cat_threshold=None, max_cat_to_onehot=None,\n",
       "              max_delta_step=None, max_depth=None, max_leaves=None,\n",
       "              min_child_weight=None, missing=nan, monotone_constraints=None,\n",
       "              multi_strategy=None, n_estimators=None, n_jobs=None, nthread=8,\n",
       "              num_parallel_tree=None, ...)</pre></div></div></div></div></div></div></div></div></div></div>"
      ],
      "text/plain": [
       "GridSearchCV(cv=10,\n",
       "             estimator=XGBClassifier(base_score=None, booster=None,\n",
       "                                     callbacks=None, colsample_bylevel=None,\n",
       "                                     colsample_bynode=None,\n",
       "                                     colsample_bytree=None, device=None,\n",
       "                                     early_stopping_rounds=None,\n",
       "                                     enable_categorical=False, eval_metric=None,\n",
       "                                     feature_types=None, gamma=None,\n",
       "                                     grow_policy=None, importance_type=None,\n",
       "                                     interaction_constraints=None,\n",
       "                                     learning_rate=None...\n",
       "                                     max_cat_to_onehot=None,\n",
       "                                     max_delta_step=None, max_depth=None,\n",
       "                                     max_leaves=None, min_child_weight=None,\n",
       "                                     missing=nan, monotone_constraints=None,\n",
       "                                     multi_strategy=None, n_estimators=None,\n",
       "                                     n_jobs=None, nthread=8,\n",
       "                                     num_parallel_tree=None, ...),\n",
       "             n_jobs=10,\n",
       "             param_grid={'learning_rate': [0.1, 0.01, 0.05],\n",
       "                         'max_depth': range(2, 10),\n",
       "                         'n_estimators': range(50, 500, 50)},\n",
       "             scoring='roc_auc', verbose=True)"
      ]
     },
     "execution_count": 17,
     "metadata": {},
     "output_type": "execute_result"
    }
   ],
   "source": [
    "# run the grid search\n",
    "grid_search.fit(X_train_scaled, y_train)"
   ]
  },
  {
   "cell_type": "code",
   "execution_count": 18,
   "metadata": {},
   "outputs": [
    {
     "name": "stdout",
     "output_type": "stream",
     "text": [
      "Best XGB Model Accuracy: 0.7830903790087463\n",
      "\n",
      "Classification Report:\n",
      "              precision    recall  f1-score   support\n",
      "\n",
      "           0       0.85      0.66      0.74      4045\n",
      "           1       0.75      0.89      0.81      4530\n",
      "\n",
      "    accuracy                           0.78      8575\n",
      "   macro avg       0.80      0.78      0.78      8575\n",
      "weighted avg       0.79      0.78      0.78      8575\n",
      "\n"
     ]
    }
   ],
   "source": [
    "# get the best model and display classification report\n",
    "best_model = grid_search.best_estimator_\n",
    "\n",
    "#Making predictions on the test set\n",
    "predictions = best_model.predict(X_test_scaled)\n",
    "\n",
    "#Calculating accuracy\n",
    "accuracy = accuracy_score(y_test, predictions)\n",
    "\n",
    "print(\"Best XGB Model Accuracy:\", accuracy)\n",
    "print(\"\\nClassification Report:\")\n",
    "\n",
    "print(classification_report(y_test, predictions))"
   ]
  },
  {
   "cell_type": "code",
   "execution_count": 19,
   "metadata": {},
   "outputs": [],
   "source": [
    "# save the best xgb model\n",
    "best_model.save_model(\"AlphabetSoupCharity_Optimization_XGB.json\")"
   ]
  },
  {
   "cell_type": "markdown",
   "metadata": {
    "id": "MRxgcaWKGCgB"
   },
   "source": [
    "## Compile, Train and Evaluate the NN Model"
   ]
  },
  {
   "cell_type": "code",
   "execution_count": 20,
   "metadata": {
    "colab": {
     "base_uri": "https://localhost:8080/"
    },
    "executionInfo": {
     "elapsed": 1169,
     "status": "ok",
     "timestamp": 1705690951459,
     "user": {
      "displayName": "Nathan Stevens",
      "userId": "02577089133393346819"
     },
     "user_tz": 300
    },
    "id": "p5TE0gJVGCgB",
    "outputId": "fb041431-8c8c-4e8f-f902-d37b256e4152"
   },
   "outputs": [
    {
     "name": "stdout",
     "output_type": "stream",
     "text": [
      "Model: \"sequential\"\n",
      "_________________________________________________________________\n",
      " Layer (type)                Output Shape              Param #   \n",
      "=================================================================\n",
      " dense (Dense)               (None, 81)                2268      \n",
      "                                                                 \n",
      " dense_1 (Dense)             (None, 81)                6642      \n",
      "                                                                 \n",
      " dense_2 (Dense)             (None, 1)                 82        \n",
      "                                                                 \n",
      "=================================================================\n",
      "Total params: 8,992\n",
      "Trainable params: 8,992\n",
      "Non-trainable params: 0\n",
      "_________________________________________________________________\n"
     ]
    }
   ],
   "source": [
    "# Define the model - deep neural net, i.e., the number of input features and hidden nodes for each layer.\n",
    "hidden_nodes_layer1 = number_input_features*3\n",
    "hidden_nodes_layer2 = number_input_features*3\n",
    "\n",
    "activation_function = 'relu'\n",
    "\n",
    "nn = tf.keras.models.Sequential()\n",
    "\n",
    "# First hidden layer\n",
    "nn.add(tf.keras.layers.Dense(units=hidden_nodes_layer1, input_dim=number_input_features, activation=activation_function))\n",
    "\n",
    "# Second hidden layer\n",
    "nn.add(tf.keras.layers.Dense(units=hidden_nodes_layer2, activation=\"relu\"))\n",
    "\n",
    "# Output layer\n",
    "nn.add(tf.keras.layers.Dense(units=1, activation=\"sigmoid\"))\n",
    "\n",
    "# Check the structure of the model\n",
    "nn.summary()"
   ]
  },
  {
   "cell_type": "code",
   "execution_count": 21,
   "metadata": {
    "executionInfo": {
     "elapsed": 310,
     "status": "ok",
     "timestamp": 1705690959845,
     "user": {
      "displayName": "Nathan Stevens",
      "userId": "02577089133393346819"
     },
     "user_tz": 300
    },
    "id": "0vfv9EgLGCgC"
   },
   "outputs": [],
   "source": [
    "# Compile the model\n",
    "nn.compile(loss=\"binary_crossentropy\", optimizer=\"adam\", metrics=[\"accuracy\"])"
   ]
  },
  {
   "cell_type": "code",
   "execution_count": 22,
   "metadata": {
    "colab": {
     "base_uri": "https://localhost:8080/"
    },
    "executionInfo": {
     "elapsed": 203079,
     "status": "ok",
     "timestamp": 1705691165307,
     "user": {
      "displayName": "Nathan Stevens",
      "userId": "02577089133393346819"
     },
     "user_tz": 300
    },
    "id": "fbLfd88cGCgC",
    "outputId": "9dbeb8ae-c63d-4a84-8823-62071aa39025",
    "scrolled": true
   },
   "outputs": [
    {
     "name": "stdout",
     "output_type": "stream",
     "text": [
      "Epoch 1/100\n",
      "402/402 [==============================] - 2s 3ms/step - loss: 0.5513 - accuracy: 0.7243\n",
      "Epoch 2/100\n",
      "402/402 [==============================] - 1s 3ms/step - loss: 0.5289 - accuracy: 0.7374\n",
      "Epoch 3/100\n",
      "402/402 [==============================] - 1s 3ms/step - loss: 0.5215 - accuracy: 0.7441\n",
      "Epoch 4/100\n",
      "402/402 [==============================] - 1s 3ms/step - loss: 0.5177 - accuracy: 0.7462\n",
      "Epoch 5/100\n",
      "402/402 [==============================] - 1s 3ms/step - loss: 0.5133 - accuracy: 0.7493\n",
      "Epoch 6/100\n",
      "402/402 [==============================] - 1s 3ms/step - loss: 0.5101 - accuracy: 0.7504\n",
      "Epoch 7/100\n",
      "402/402 [==============================] - 1s 3ms/step - loss: 0.5085 - accuracy: 0.7503\n",
      "Epoch 8/100\n",
      "402/402 [==============================] - 1s 3ms/step - loss: 0.5058 - accuracy: 0.7509\n",
      "Epoch 9/100\n",
      "402/402 [==============================] - 1s 3ms/step - loss: 0.5045 - accuracy: 0.7517\n",
      "Epoch 10/100\n",
      "402/402 [==============================] - 1s 3ms/step - loss: 0.5029 - accuracy: 0.7515\n",
      "Epoch 11/100\n",
      "402/402 [==============================] - 1s 4ms/step - loss: 0.5029 - accuracy: 0.7507\n",
      "Epoch 12/100\n",
      "402/402 [==============================] - 1s 4ms/step - loss: 0.5013 - accuracy: 0.7535\n",
      "Epoch 13/100\n",
      "402/402 [==============================] - 1s 3ms/step - loss: 0.5009 - accuracy: 0.7503\n",
      "Epoch 14/100\n",
      "402/402 [==============================] - 1s 3ms/step - loss: 0.4988 - accuracy: 0.7542\n",
      "Epoch 15/100\n",
      "402/402 [==============================] - 2s 4ms/step - loss: 0.4984 - accuracy: 0.7526\n",
      "Epoch 16/100\n",
      "402/402 [==============================] - 1s 4ms/step - loss: 0.4978 - accuracy: 0.7544\n",
      "Epoch 17/100\n",
      "402/402 [==============================] - 1s 4ms/step - loss: 0.4970 - accuracy: 0.7536\n",
      "Epoch 18/100\n",
      "402/402 [==============================] - 1s 3ms/step - loss: 0.4965 - accuracy: 0.7553\n",
      "Epoch 19/100\n",
      "402/402 [==============================] - 1s 3ms/step - loss: 0.4964 - accuracy: 0.7545\n",
      "Epoch 20/100\n",
      "402/402 [==============================] - 1s 3ms/step - loss: 0.4964 - accuracy: 0.7545\n",
      "Epoch 21/100\n",
      "402/402 [==============================] - 1s 3ms/step - loss: 0.4956 - accuracy: 0.7547\n",
      "Epoch 22/100\n",
      "402/402 [==============================] - 1s 3ms/step - loss: 0.4952 - accuracy: 0.7549\n",
      "Epoch 23/100\n",
      "402/402 [==============================] - 1s 3ms/step - loss: 0.4945 - accuracy: 0.7548\n",
      "Epoch 24/100\n",
      "402/402 [==============================] - 1s 3ms/step - loss: 0.4939 - accuracy: 0.7567\n",
      "Epoch 25/100\n",
      "402/402 [==============================] - 1s 3ms/step - loss: 0.4938 - accuracy: 0.7552\n",
      "Epoch 26/100\n",
      "402/402 [==============================] - 1s 3ms/step - loss: 0.4928 - accuracy: 0.7570\n",
      "Epoch 27/100\n",
      "402/402 [==============================] - 1s 3ms/step - loss: 0.4925 - accuracy: 0.7558\n",
      "Epoch 28/100\n",
      "402/402 [==============================] - 1s 3ms/step - loss: 0.4920 - accuracy: 0.7572\n",
      "Epoch 29/100\n",
      "402/402 [==============================] - 2s 4ms/step - loss: 0.4918 - accuracy: 0.7570\n",
      "Epoch 30/100\n",
      "402/402 [==============================] - 2s 4ms/step - loss: 0.4916 - accuracy: 0.7563\n",
      "Epoch 31/100\n",
      "402/402 [==============================] - 1s 3ms/step - loss: 0.4905 - accuracy: 0.7574\n",
      "Epoch 32/100\n",
      "402/402 [==============================] - 1s 4ms/step - loss: 0.4911 - accuracy: 0.7570\n",
      "Epoch 33/100\n",
      "402/402 [==============================] - 1s 3ms/step - loss: 0.4904 - accuracy: 0.7571\n",
      "Epoch 34/100\n",
      "402/402 [==============================] - 1s 3ms/step - loss: 0.4894 - accuracy: 0.7571\n",
      "Epoch 35/100\n",
      "402/402 [==============================] - 1s 3ms/step - loss: 0.4897 - accuracy: 0.7584\n",
      "Epoch 36/100\n",
      "402/402 [==============================] - 1s 3ms/step - loss: 0.4891 - accuracy: 0.7582\n",
      "Epoch 37/100\n",
      "402/402 [==============================] - 1s 3ms/step - loss: 0.4883 - accuracy: 0.7574\n",
      "Epoch 38/100\n",
      "402/402 [==============================] - 1s 3ms/step - loss: 0.4892 - accuracy: 0.7598\n",
      "Epoch 39/100\n",
      "402/402 [==============================] - 1s 3ms/step - loss: 0.4884 - accuracy: 0.7576\n",
      "Epoch 40/100\n",
      "402/402 [==============================] - 1s 3ms/step - loss: 0.4881 - accuracy: 0.7592\n",
      "Epoch 41/100\n",
      "402/402 [==============================] - 1s 3ms/step - loss: 0.4880 - accuracy: 0.7584\n",
      "Epoch 42/100\n",
      "402/402 [==============================] - 1s 3ms/step - loss: 0.4870 - accuracy: 0.7579\n",
      "Epoch 43/100\n",
      "402/402 [==============================] - 1s 3ms/step - loss: 0.4874 - accuracy: 0.7583\n",
      "Epoch 44/100\n",
      "402/402 [==============================] - 1s 3ms/step - loss: 0.4862 - accuracy: 0.7590\n",
      "Epoch 45/100\n",
      "402/402 [==============================] - 1s 3ms/step - loss: 0.4864 - accuracy: 0.7592\n",
      "Epoch 46/100\n",
      "402/402 [==============================] - 1s 3ms/step - loss: 0.4865 - accuracy: 0.7586\n",
      "Epoch 47/100\n",
      "402/402 [==============================] - 1s 3ms/step - loss: 0.4858 - accuracy: 0.7595\n",
      "Epoch 48/100\n",
      "402/402 [==============================] - 1s 3ms/step - loss: 0.4863 - accuracy: 0.7596\n",
      "Epoch 49/100\n",
      "402/402 [==============================] - 1s 3ms/step - loss: 0.4857 - accuracy: 0.7589\n",
      "Epoch 50/100\n",
      "402/402 [==============================] - 1s 3ms/step - loss: 0.4856 - accuracy: 0.7569\n",
      "Epoch 51/100\n",
      "402/402 [==============================] - 1s 3ms/step - loss: 0.4859 - accuracy: 0.7612\n",
      "Epoch 52/100\n",
      "402/402 [==============================] - 1s 3ms/step - loss: 0.4852 - accuracy: 0.7593\n",
      "Epoch 53/100\n",
      "402/402 [==============================] - 1s 3ms/step - loss: 0.4850 - accuracy: 0.7594\n",
      "Epoch 54/100\n",
      "402/402 [==============================] - 1s 3ms/step - loss: 0.4846 - accuracy: 0.7590\n",
      "Epoch 55/100\n",
      "402/402 [==============================] - 1s 3ms/step - loss: 0.4842 - accuracy: 0.7588\n",
      "Epoch 56/100\n",
      "402/402 [==============================] - 1s 3ms/step - loss: 0.4844 - accuracy: 0.7593\n",
      "Epoch 57/100\n",
      "402/402 [==============================] - 1s 3ms/step - loss: 0.4839 - accuracy: 0.7594\n",
      "Epoch 58/100\n",
      "402/402 [==============================] - 1s 4ms/step - loss: 0.4840 - accuracy: 0.7595\n",
      "Epoch 59/100\n",
      "402/402 [==============================] - 1s 3ms/step - loss: 0.4836 - accuracy: 0.7594\n",
      "Epoch 60/100\n",
      "402/402 [==============================] - 1s 3ms/step - loss: 0.4831 - accuracy: 0.7598\n",
      "Epoch 61/100\n",
      "402/402 [==============================] - 1s 3ms/step - loss: 0.4844 - accuracy: 0.7599\n",
      "Epoch 62/100\n",
      "402/402 [==============================] - 1s 3ms/step - loss: 0.4830 - accuracy: 0.7590\n",
      "Epoch 63/100\n",
      "402/402 [==============================] - 1s 3ms/step - loss: 0.4832 - accuracy: 0.7602\n",
      "Epoch 64/100\n",
      "402/402 [==============================] - 1s 3ms/step - loss: 0.4837 - accuracy: 0.7589\n",
      "Epoch 65/100\n",
      "402/402 [==============================] - 1s 3ms/step - loss: 0.4833 - accuracy: 0.7587\n",
      "Epoch 66/100\n",
      "402/402 [==============================] - 1s 3ms/step - loss: 0.4826 - accuracy: 0.7588\n",
      "Epoch 67/100\n",
      "402/402 [==============================] - 1s 3ms/step - loss: 0.4828 - accuracy: 0.7605\n",
      "Epoch 68/100\n",
      "402/402 [==============================] - 1s 3ms/step - loss: 0.4828 - accuracy: 0.7602\n",
      "Epoch 69/100\n",
      "402/402 [==============================] - 1s 3ms/step - loss: 0.4822 - accuracy: 0.7605\n",
      "Epoch 70/100\n",
      "402/402 [==============================] - 1s 3ms/step - loss: 0.4828 - accuracy: 0.7586\n",
      "Epoch 71/100\n",
      "402/402 [==============================] - 1s 3ms/step - loss: 0.4816 - accuracy: 0.7597\n",
      "Epoch 72/100\n",
      "402/402 [==============================] - 1s 3ms/step - loss: 0.4816 - accuracy: 0.7593\n",
      "Epoch 73/100\n",
      "402/402 [==============================] - 1s 3ms/step - loss: 0.4818 - accuracy: 0.7597\n",
      "Epoch 74/100\n",
      "402/402 [==============================] - 1s 3ms/step - loss: 0.4812 - accuracy: 0.7630\n",
      "Epoch 75/100\n",
      "402/402 [==============================] - 1s 3ms/step - loss: 0.4810 - accuracy: 0.7607\n",
      "Epoch 76/100\n",
      "402/402 [==============================] - 1s 3ms/step - loss: 0.4817 - accuracy: 0.7618\n",
      "Epoch 77/100\n",
      "402/402 [==============================] - 1s 3ms/step - loss: 0.4809 - accuracy: 0.7617\n",
      "Epoch 78/100\n",
      "402/402 [==============================] - 1s 3ms/step - loss: 0.4811 - accuracy: 0.7604\n",
      "Epoch 79/100\n",
      "402/402 [==============================] - 1s 3ms/step - loss: 0.4816 - accuracy: 0.7600\n",
      "Epoch 80/100\n",
      "402/402 [==============================] - 1s 3ms/step - loss: 0.4813 - accuracy: 0.7593\n",
      "Epoch 81/100\n",
      "402/402 [==============================] - 1s 3ms/step - loss: 0.4810 - accuracy: 0.7613\n",
      "Epoch 82/100\n",
      "402/402 [==============================] - 1s 3ms/step - loss: 0.4801 - accuracy: 0.7617\n",
      "Epoch 83/100\n",
      "402/402 [==============================] - 1s 3ms/step - loss: 0.4804 - accuracy: 0.7622\n",
      "Epoch 84/100\n",
      "402/402 [==============================] - 1s 3ms/step - loss: 0.4804 - accuracy: 0.7617\n",
      "Epoch 85/100\n",
      "402/402 [==============================] - 1s 3ms/step - loss: 0.4803 - accuracy: 0.7604\n",
      "Epoch 86/100\n",
      "402/402 [==============================] - 1s 3ms/step - loss: 0.4805 - accuracy: 0.7615\n",
      "Epoch 87/100\n",
      "402/402 [==============================] - 1s 3ms/step - loss: 0.4797 - accuracy: 0.7601\n",
      "Epoch 88/100\n",
      "402/402 [==============================] - 1s 3ms/step - loss: 0.4807 - accuracy: 0.7609\n",
      "Epoch 89/100\n",
      "402/402 [==============================] - 1s 3ms/step - loss: 0.4802 - accuracy: 0.7620\n",
      "Epoch 90/100\n",
      "402/402 [==============================] - 1s 3ms/step - loss: 0.4793 - accuracy: 0.7610\n",
      "Epoch 91/100\n",
      "402/402 [==============================] - 1s 3ms/step - loss: 0.4793 - accuracy: 0.7612\n",
      "Epoch 92/100\n",
      "402/402 [==============================] - 1s 3ms/step - loss: 0.4803 - accuracy: 0.7603\n",
      "Epoch 93/100\n",
      "402/402 [==============================] - 1s 3ms/step - loss: 0.4805 - accuracy: 0.7612\n",
      "Epoch 94/100\n",
      "402/402 [==============================] - 1s 3ms/step - loss: 0.4800 - accuracy: 0.7601\n",
      "Epoch 95/100\n",
      "402/402 [==============================] - 1s 3ms/step - loss: 0.4795 - accuracy: 0.7630\n",
      "Epoch 96/100\n",
      "402/402 [==============================] - 1s 3ms/step - loss: 0.4791 - accuracy: 0.7619\n",
      "Epoch 97/100\n",
      "402/402 [==============================] - 1s 3ms/step - loss: 0.4793 - accuracy: 0.7619\n",
      "Epoch 98/100\n",
      "402/402 [==============================] - 1s 3ms/step - loss: 0.4790 - accuracy: 0.7615\n",
      "Epoch 99/100\n",
      "402/402 [==============================] - 1s 3ms/step - loss: 0.4797 - accuracy: 0.7622\n",
      "Epoch 100/100\n",
      "402/402 [==============================] - 1s 3ms/step - loss: 0.4794 - accuracy: 0.7623\n"
     ]
    }
   ],
   "source": [
    "# Train the model\n",
    "earlyStop = tf.keras.callbacks.EarlyStopping(monitor='loss', patience=5)\n",
    "\n",
    "#fit_model = nn.fit(X_train_scaled, y_train, epochs=100, batch_size=16, callbacks=[earlyStop])\n",
    "fit_model = nn.fit(X_train_scaled, y_train, epochs=100,  batch_size=64)"
   ]
  },
  {
   "cell_type": "code",
   "execution_count": 23,
   "metadata": {
    "colab": {
     "base_uri": "https://localhost:8080/"
    },
    "executionInfo": {
     "elapsed": 775,
     "status": "ok",
     "timestamp": 1705691166080,
     "user": {
      "displayName": "Nathan Stevens",
      "userId": "02577089133393346819"
     },
     "user_tz": 300
    },
    "id": "ozlfBmddGCgC",
    "outputId": "2ece5ccd-736f-4604-ebf6-f79ec16665d4"
   },
   "outputs": [
    {
     "name": "stdout",
     "output_type": "stream",
     "text": [
      "268/268 - 1s - loss: 0.4916 - accuracy: 0.7563 - 515ms/epoch - 2ms/step\n",
      "Loss: 0.49157628417015076, Accuracy: 0.7562682032585144\n"
     ]
    }
   ],
   "source": [
    "# Evaluate the model using the test data\n",
    "model_loss, model_accuracy = nn.evaluate(X_test_scaled, y_test, verbose=2)\n",
    "print(f\"Loss: {model_loss}, Accuracy: {model_accuracy}\")"
   ]
  },
  {
   "cell_type": "code",
   "execution_count": 24,
   "metadata": {
    "colab": {
     "base_uri": "https://localhost:8080/",
     "height": 879
    },
    "executionInfo": {
     "elapsed": 843,
     "status": "ok",
     "timestamp": 1705691176438,
     "user": {
      "displayName": "Nathan Stevens",
      "userId": "02577089133393346819"
     },
     "user_tz": 300
    },
    "id": "ICrdUOTBGCgC",
    "outputId": "3573ca40-7f3a-448d-f807-3b04064b72b9"
   },
   "outputs": [
    {
     "data": {
      "text/plain": [
       "<Axes: >"
      ]
     },
     "metadata": {},
     "output_type": "display_data"
    },
    {
     "data": {
      "text/plain": [
       "<Axes: >"
      ]
     },
     "metadata": {},
     "output_type": "display_data"
    },
    {
     "data": {
      "image/png": "[encoded data removed]",
      "text/plain": [
       "<Figure size 640x480 with 1 Axes>"
      ]
     },
     "metadata": {},
     "output_type": "display_data"
    },
    {
     "data": {
      "image/png": "[encoded data removed]",
      "text/plain": [
       "<Figure size 640x480 with 1 Axes>"
      ]
     },
     "metadata": {},
     "output_type": "display_data"
    }
   ],
   "source": [
    "# Create a DataFrame containing training history\n",
    "history_df = pd.DataFrame(fit_model.history)\n",
    "\n",
    "# Increase the index by 1 to match the number of epochs\n",
    "history_df.index += 1\n",
    "\n",
    "# Plot the loss and\n",
    "display(history_df.plot(y=\"loss\"))\n",
    "display(history_df.plot(y=\"accuracy\"))"
   ]
  },
  {
   "cell_type": "code",
   "execution_count": 25,
   "metadata": {
    "id": "BkJY-_qhGCgC"
   },
   "outputs": [],
   "source": [
    "# save this model "
   ]
  },
  {
   "cell_type": "code",
   "execution_count": 26,
   "metadata": {
    "executionInfo": {
     "elapsed": 322,
     "status": "ok",
     "timestamp": 1705691183078,
     "user": {
      "displayName": "Nathan Stevens",
      "userId": "02577089133393346819"
     },
     "user_tz": 300
    },
    "id": "2FKr7CXdGCgC"
   },
   "outputs": [],
   "source": [
    "# Create a method that creates a new Sequential model with hyperparameter options\n",
    "def create_model(hp):\n",
    "    nn_model = tf.keras.models.Sequential()\n",
    "\n",
    "    # Allow kerastuner to decide which activation function to use in hidden layers\n",
    "    activation = hp.Choice('activation',['relu', 'tanh'])\n",
    "\n",
    "    # Allow kerastuner to decide number of neurons in first layer\n",
    "    nn_model.add(tf.keras.layers.Dense(units=hp.Int('first_units',\n",
    "        min_value=number_input_features,\n",
    "        max_value=number_input_features*6,\n",
    "        step=int(number_input_features/2)), activation=activation, input_dim=number_input_features))\n",
    "\n",
    "    # Allow kerastuner to decide number of hidden layers and neurons in hidden layers\n",
    "    # from 0 to 4\n",
    "    for i in range(hp.Int('num_layers', 1, 3)):\n",
    "        nn_model.add(tf.keras.layers.Dense(units=hp.Int('units_' + str(i),\n",
    "            min_value=number_input_features,\n",
    "            max_value=number_input_features*3,\n",
    "            step=int(number_input_features/2)),\n",
    "            activation=activation))\n",
    "\n",
    "    nn_model.add(tf.keras.layers.Dense(units=1, activation=\"sigmoid\"))\n",
    "\n",
    "    # Compile the model\n",
    "    nn_model.compile(loss=\"binary_crossentropy\", optimizer='adam', metrics=[\"accuracy\"])\n",
    "\n",
    "    return nn_model"
   ]
  },
  {
   "cell_type": "code",
   "execution_count": 27,
   "metadata": {
    "colab": {
     "base_uri": "https://localhost:8080/",
     "height": 400
    },
    "executionInfo": {
     "elapsed": 338,
     "status": "error",
     "timestamp": 1705691196088,
     "user": {
      "displayName": "Nathan Stevens",
      "userId": "02577089133393346819"
     },
     "user_tz": 300
    },
    "id": "e1SGvddPGCgC",
    "outputId": "766bc114-e49a-4d1e-ff0c-151847ce59c8"
   },
   "outputs": [],
   "source": [
    "import keras_tuner as kt\n",
    "\n",
    "tuner = kt.Hyperband(\n",
    "    create_model,\n",
    "    objective=\"val_accuracy\",\n",
    "    max_epochs=100,\n",
    "    hyperband_iterations=1,\n",
    "    project_name='application_kt1')"
   ]
  },
  {
   "cell_type": "code",
   "execution_count": 28,
   "metadata": {
    "id": "HFa00tBOGCgC"
   },
   "outputs": [
    {
     "name": "stdout",
     "output_type": "stream",
     "text": [
      "Trial 254 Complete [00h 01m 23s]\n",
      "val_accuracy: 0.7570845484733582\n",
      "\n",
      "Best val_accuracy So Far: 0.7627988457679749\n",
      "Total elapsed time: 01h 27m 14s\n"
     ]
    }
   ],
   "source": [
    "early_stop = tf.keras.callbacks.EarlyStopping(monitor='val_loss', patience=5)\n",
    "tuner.search(X_train_scaled, y_train, epochs=100, validation_data=(X_test_scaled, y_test), callbacks=[early_stop])"
   ]
  },
  {
   "cell_type": "code",
   "execution_count": 29,
   "metadata": {
    "id": "VbntsLTwGCgD"
   },
   "outputs": [
    {
     "data": {
      "text/plain": [
       "{'activation': 'tanh',\n",
       " 'first_units': 157,\n",
       " 'num_layers': 2,\n",
       " 'units_0': 40,\n",
       " 'units_1': 40,\n",
       " 'units_2': 53,\n",
       " 'tuner/epochs': 100,\n",
       " 'tuner/initial_epoch': 34,\n",
       " 'tuner/bracket': 3,\n",
       " 'tuner/round': 3,\n",
       " 'tuner/trial_id': '0206'}"
      ]
     },
     "execution_count": 29,
     "metadata": {},
     "output_type": "execute_result"
    }
   ],
   "source": [
    "best_hyper = tuner.get_best_hyperparameters(1)[0]\n",
    "best_hyper.values"
   ]
  },
  {
   "cell_type": "code",
   "execution_count": 30,
   "metadata": {
    "id": "AGfS2h6GGCgD"
   },
   "outputs": [
    {
     "name": "stdout",
     "output_type": "stream",
     "text": [
      "268/268 - 1s - loss: 0.4872 - accuracy: 0.7628 - 548ms/epoch - 2ms/step\n",
      "Loss: 0.48721376061439514, Accuracy: 0.7627988457679749\n"
     ]
    }
   ],
   "source": [
    "# Evaluate best model against full test data\n",
    "best_model = tuner.get_best_models(1)[0]\n",
    "model_loss, model_accuracy = best_model.evaluate(X_test_scaled,y_test,verbose=2)\n",
    "print(f\"Loss: {model_loss}, Accuracy: {model_accuracy}\")"
   ]
  },
  {
   "cell_type": "code",
   "execution_count": 31,
   "metadata": {},
   "outputs": [
    {
     "name": "stdout",
     "output_type": "stream",
     "text": [
      "268/268 [==============================] - 0s 907us/step\n",
      "Best NN Model Accuracy: 0.762798833819242\n",
      "\n",
      "Classification Report:\n",
      "              precision    recall  f1-score   support\n",
      "\n",
      "           0       0.81      0.65      0.72      4045\n",
      "           1       0.74      0.86      0.79      4530\n",
      "\n",
      "    accuracy                           0.76      8575\n",
      "   macro avg       0.77      0.76      0.76      8575\n",
      "weighted avg       0.77      0.76      0.76      8575\n",
      "\n"
     ]
    }
   ],
   "source": [
    "#Making predictions on the test set\n",
    "threshold = 0.5\n",
    "\n",
    "predictions = best_model.predict(X_test_scaled)\n",
    "predictions = predictions > threshold\n",
    "\n",
    "#Calculating accuracy\n",
    "accuracy = accuracy_score(y_test, predictions)\n",
    "\n",
    "print(\"Best NN Model Accuracy:\", accuracy)\n",
    "print(\"\\nClassification Report:\")\n",
    "\n",
    "print(classification_report(y_test, predictions))"
   ]
  },
  {
   "cell_type": "code",
   "execution_count": 32,
   "metadata": {
    "id": "X-3NyOyEGCgD"
   },
   "outputs": [],
   "source": [
    "# Export our model to HDF5 file\n",
    "best_model.save('AlphabetSoupCharity_Optimization.h5')"
   ]
  },
  {
   "cell_type": "code",
   "execution_count": null,
   "metadata": {},
   "outputs": [],
   "source": []
  }
 ],
 "metadata": {
  "accelerator": "GPU",
  "colab": {
   "gpuType": "T4",
   "provenance": []
  },
  "kernelspec": {
   "display_name": "Python 3 (ipykernel)",
   "language": "python",
   "name": "python3"
  },
  "language_info": {
   "codemirror_mode": {
    "name": "ipython",
    "version": 3
   },
   "file_extension": ".py",
   "mimetype": "text/x-python",
   "name": "python",
   "nbconvert_exporter": "python",
   "pygments_lexer": "ipython3",
   "version": "3.10.13"
  },
  "vscode": {
   "interpreter": {
    "hash": "31f2aee4e71d21fbe5cf8b01ff0e069b9275f58929596ceb00d14d90e3e16cd6"
   }
  }
 },
 "nbformat": 4,
 "nbformat_minor": 4
}
